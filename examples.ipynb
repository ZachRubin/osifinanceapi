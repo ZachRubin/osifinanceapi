{
 "cells": [
  {
   "cell_type": "code",
   "execution_count": 30,
   "metadata": {},
   "outputs": [
    {
     "ename": "SyntaxError",
     "evalue": "invalid syntax (239666583.py, line 13)",
     "output_type": "error",
     "traceback": [
      "\u001b[1;36m  Cell \u001b[1;32mIn[30], line 13\u001b[1;36m\u001b[0m\n\u001b[1;33m    You can now use osi to begin making API calls.\u001b[0m\n\u001b[1;37m        ^\u001b[0m\n\u001b[1;31mSyntaxError\u001b[0m\u001b[1;31m:\u001b[0m invalid syntax\n"
     ]
    }
   ],
   "source": [
    "# Import the Osifinance class\n",
    "from osifinanceapi import *\n",
    "from osifinanceapi.states import *\n",
    "\n",
    "# OSI Finance API key\n",
    "API_KEY = \"p@$$w0rd\"\n",
    "\n",
    "# Initialize a new Osifinance object\n",
    "osi = Osifinance(API_KEY)\n",
    "\n",
    "You can now use osi to begin making API calls.\n",
    "\n",
    "Working with Osifinance Objects\n",
    "osifinanceAPI converts the JSON responses from the host website into Pandas dataframes.\n",
    "\n",
    "# Get income taxes\n",
    ">>> df_income_taxes = osi.taxes_income(filing_status='single', agi=100000)\n",
    "\n",
    "# Access the total taxes\n",
    ">>> df_income_taxes.taxes.total\n",
    "\n",
    "# State tax information can be found in the respective state files\n",
    ">>> help(states.alabama)\n",
    ">>> help(states.alabama.income)"
   ]
  }
 ],
 "metadata": {
  "kernelspec": {
   "display_name": "Python 3",
   "language": "python",
   "name": "python3"
  },
  "language_info": {
   "codemirror_mode": {
    "name": "ipython",
    "version": 3
   },
   "file_extension": ".py",
   "mimetype": "text/x-python",
   "name": "python",
   "nbconvert_exporter": "python",
   "pygments_lexer": "ipython3",
   "version": "3.11.5"
  },
  "orig_nbformat": 4
 },
 "nbformat": 4,
 "nbformat_minor": 2
}
