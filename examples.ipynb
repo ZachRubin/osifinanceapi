{
 "cells": [
  {
   "cell_type": "code",
   "execution_count": null,
   "metadata": {},
   "outputs": [],
   "source": [
    "# Import the Osifinance class\n",
    "from osifinanceapi import Osifinance\n",
    "\n",
    "# OSI Finance API key\n",
    "API_KEY = \"p@$$w0rd\"\n",
    "\n",
    "# Initialize a new Osifinance object\n",
    "osi = Osifinance(API_KEY)\n",
    "\n",
    "# You can now use osi to begin making API calls.\n",
    "\n",
    "# Working with Osifinance Objects\n",
    "# osifinanceAPI converts the JSON responses from the host website into Pandas dataframes.\n",
    "\n",
    "# Get income taxes\n",
    "df_income_taxes = osi.taxes_income(filing_status='single', agi=100000)\n",
    "\n",
    "# Access the total taxes\n",
    "df_income_taxes.taxes.total\n",
    "\n",
    "# State tax information can be found in the respective state files\n",
    "help(osi.alabama)"
   ]
  },
  {
   "cell_type": "code",
   "execution_count": null,
   "metadata": {},
   "outputs": [
    {
     "data": {
      "text/html": [
       "<div>\n",
       "<style scoped>\n",
       "    .dataframe tbody tr th:only-of-type {\n",
       "        vertical-align: middle;\n",
       "    }\n",
       "\n",
       "    .dataframe tbody tr th {\n",
       "        vertical-align: top;\n",
       "    }\n",
       "\n",
       "    .dataframe thead th {\n",
       "        text-align: right;\n",
       "    }\n",
       "</style>\n",
       "<table border=\"1\" class=\"dataframe\">\n",
       "  <thead>\n",
       "    <tr style=\"text-align: right;\">\n",
       "      <th></th>\n",
       "      <th>Tax Type</th>\n",
       "      <th>Marginal Tax Rate</th>\n",
       "      <th>Effective Tax Rate</th>\n",
       "      <th>2023 Taxes</th>\n",
       "    </tr>\n",
       "  </thead>\n",
       "  <tbody>\n",
       "    <tr>\n",
       "      <th>0</th>\n",
       "      <td>Federal Income</td>\n",
       "      <td>0.2200</td>\n",
       "      <td>0.142605</td>\n",
       "      <td>14260.5</td>\n",
       "    </tr>\n",
       "    <tr>\n",
       "      <th>1</th>\n",
       "      <td>Social Security</td>\n",
       "      <td>0.0620</td>\n",
       "      <td>0.062000</td>\n",
       "      <td>6200.0</td>\n",
       "    </tr>\n",
       "    <tr>\n",
       "      <th>2</th>\n",
       "      <td>Medicare</td>\n",
       "      <td>0.0145</td>\n",
       "      <td>0.014500</td>\n",
       "      <td>1450.0</td>\n",
       "    </tr>\n",
       "    <tr>\n",
       "      <th>3</th>\n",
       "      <td>Total</td>\n",
       "      <td>0.2965</td>\n",
       "      <td>0.219105</td>\n",
       "      <td>21910.5</td>\n",
       "    </tr>\n",
       "  </tbody>\n",
       "</table>\n",
       "</div>"
      ],
      "text/plain": [
       "          Tax Type  Marginal Tax Rate  Effective Tax Rate  2023 Taxes\n",
       "0   Federal Income             0.2200            0.142605     14260.5\n",
       "1  Social Security             0.0620            0.062000      6200.0\n",
       "2         Medicare             0.0145            0.014500      1450.0\n",
       "3            Total             0.2965            0.219105     21910.5"
      ]
     },
     "execution_count": 2,
     "metadata": {},
     "output_type": "execute_result"
    }
   ],
   "source": [
    "from osifinanceapi import Osifinance\n",
    "\n",
    "# OSI Finance API key\n",
    "API_KEY = \"6wucHR4sr9Reri7DfEr53lFe9MI3\"\n",
    "\n",
    "# Initialize a new Osifinance object\n",
    "osi = Osifinance(API_KEY)\n",
    "osi.all_taxes()"
   ]
  }
 ],
 "metadata": {
  "kernelspec": {
   "display_name": "Python 3",
   "language": "python",
   "name": "python3"
  },
  "language_info": {
   "codemirror_mode": {
    "name": "ipython",
    "version": 3
   },
   "file_extension": ".py",
   "mimetype": "text/x-python",
   "name": "python",
   "nbconvert_exporter": "python",
   "pygments_lexer": "ipython3",
   "version": "3.11.5"
  },
  "orig_nbformat": 4
 },
 "nbformat": 4,
 "nbformat_minor": 2
}
