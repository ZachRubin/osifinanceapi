{
 "cells": [
  {
   "cell_type": "code",
   "execution_count": null,
   "metadata": {},
   "outputs": [],
   "source": [
    "# Import the Osifinance class\n",
    "from osifinanceAPI import Osifinance\n",
    "\n",
    "# OSI Finance API key, view your API key at https://osifinance.com/profile?mode=api\n",
    "API_KEY = \"p@$$w0rd\"\n",
    "\n",
    "# Initialize a new Osifinance object\n",
    "osi = Osifinance(API_KEY)\n",
    "\n",
    "# You can now use osi to begin making API calls.\n",
    "\n",
    "# Working with Osifinance Objects\n",
    "# osifinanceAPI converts the JSON responses from the host website into Pandas dataframes.\n",
    "\n",
    "# Get income taxes\n",
    "df_income_taxes = osi.income_taxes(filing_status='single', agi=100000)\n",
    "\n",
    "# Access the total taxes\n",
    "df_income_taxes.taxes.total\n",
    "\n",
    "# State tax information can be found using the StateTaxes Class\n",
    "from osifinanceAPI import StateTaxes\n",
    "\n",
    "# Initialize a new StateTaxes object\n",
    "state_taxes = StateTaxes(API_KEY)\n",
    "\n",
    "alabama_taxes = state_taxes.alabama(agi=100000)\n",
    "\n",
    "# Alternatively, you can access a sources dict by passing in sources=True\n",
    "alabama_taxes = state_taxes.alabama(agi=100000, sources=True)\n",
    "alabama_taxes.sources"
   ]
  },
  {
   "cell_type": "code",
   "execution_count": 1,
   "metadata": {},
   "outputs": [
    {
     "data": {
      "text/html": [
       "<div>\n",
       "<style scoped>\n",
       "    .dataframe tbody tr th:only-of-type {\n",
       "        vertical-align: middle;\n",
       "    }\n",
       "\n",
       "    .dataframe tbody tr th {\n",
       "        vertical-align: top;\n",
       "    }\n",
       "\n",
       "    .dataframe thead th {\n",
       "        text-align: right;\n",
       "    }\n",
       "</style>\n",
       "<table border=\"1\" class=\"dataframe\">\n",
       "  <thead>\n",
       "    <tr style=\"text-align: right;\">\n",
       "      <th></th>\n",
       "      <th>Tax Type</th>\n",
       "      <th>Marginal Tax Rate</th>\n",
       "      <th>Effective Tax Rate</th>\n",
       "      <th>2023 Taxes</th>\n",
       "    </tr>\n",
       "  </thead>\n",
       "  <tbody>\n",
       "    <tr>\n",
       "      <th>0</th>\n",
       "      <td>Federal Income</td>\n",
       "      <td>0.2200</td>\n",
       "      <td>0.142605</td>\n",
       "      <td>14260.5</td>\n",
       "    </tr>\n",
       "    <tr>\n",
       "      <th>1</th>\n",
       "      <td>Social Security</td>\n",
       "      <td>0.0620</td>\n",
       "      <td>0.062000</td>\n",
       "      <td>6200.0</td>\n",
       "    </tr>\n",
       "    <tr>\n",
       "      <th>2</th>\n",
       "      <td>Medicare</td>\n",
       "      <td>0.0145</td>\n",
       "      <td>0.014500</td>\n",
       "      <td>1450.0</td>\n",
       "    </tr>\n",
       "    <tr>\n",
       "      <th>3</th>\n",
       "      <td>Total</td>\n",
       "      <td>0.2965</td>\n",
       "      <td>0.219105</td>\n",
       "      <td>21910.5</td>\n",
       "    </tr>\n",
       "  </tbody>\n",
       "</table>\n",
       "</div>"
      ],
      "text/plain": [
       "          Tax Type  Marginal Tax Rate  Effective Tax Rate  2023 Taxes\n",
       "0   Federal Income             0.2200            0.142605     14260.5\n",
       "1  Social Security             0.0620            0.062000      6200.0\n",
       "2         Medicare             0.0145            0.014500      1450.0\n",
       "3            Total             0.2965            0.219105     21910.5"
      ]
     },
     "execution_count": 1,
     "metadata": {},
     "output_type": "execute_result"
    }
   ],
   "source": [
    "from osifinanceAPI import Osifinance\n",
    "\n",
    "# OSI Finance API key, view your API key at https://osifinance.com/profile?mode=api\n",
    "API_KEY = \"p@$$w0rd\"\n",
    "\n",
    "# Initialize a new Osifinance object\n",
    "osi = Osifinance(API_KEY)\n",
    "osi.all_taxes()"
   ]
  },
  {
   "cell_type": "code",
   "execution_count": 3,
   "metadata": {},
   "outputs": [
    {
     "ename": "ValueError",
     "evalue": "Error: 500 INTERNAL SERVER ERROR",
     "output_type": "error",
     "traceback": [
      "\u001b[1;31m---------------------------------------------------------------------------\u001b[0m",
      "\u001b[1;31mValueError\u001b[0m                                Traceback (most recent call last)",
      "\u001b[1;32mc:\\Users\\Zach.000\\osifinanceapi\\examples.ipynb Cell 3\u001b[0m line \u001b[0;36m8\n\u001b[0;32m      <a href='vscode-notebook-cell:/c%3A/Users/Zach.000/osifinanceapi/examples.ipynb#W3sZmlsZQ%3D%3D?line=5'>6</a>\u001b[0m \u001b[39m# Initialize a new Osifinance object\u001b[39;00m\n\u001b[0;32m      <a href='vscode-notebook-cell:/c%3A/Users/Zach.000/osifinanceapi/examples.ipynb#W3sZmlsZQ%3D%3D?line=6'>7</a>\u001b[0m osi \u001b[39m=\u001b[39m StateTaxes(API_KEY)\n\u001b[1;32m----> <a href='vscode-notebook-cell:/c%3A/Users/Zach.000/osifinanceapi/examples.ipynb#W3sZmlsZQ%3D%3D?line=7'>8</a>\u001b[0m osi\u001b[39m.\u001b[39;49malabama()\n",
      "File \u001b[1;32mc:\\Users\\Zach.000\\osifinanceapi\\osifinanceAPI\\state_taxes.py:64\u001b[0m, in \u001b[0;36mStateTaxes.alabama\u001b[1;34m(self, sources, filing_status, county_residence, capital_gains_short, capital_gains_long, credits_state, state_agi, income, dependents)\u001b[0m\n\u001b[0;32m     59\u001b[0m \u001b[39m# State-specific parameters\u001b[39;00m\n\u001b[0;32m     60\u001b[0m data \u001b[39m=\u001b[39m {\n\u001b[0;32m     61\u001b[0m     \u001b[39m\"\u001b[39m\u001b[39msources\u001b[39m\u001b[39m\"\u001b[39m: sources, \u001b[39m\"\u001b[39m\u001b[39mfiling_status\u001b[39m\u001b[39m\"\u001b[39m: filing_status, \u001b[39m\"\u001b[39m\u001b[39mcounty_residence\u001b[39m\u001b[39m\"\u001b[39m: county_residence, \u001b[39m\"\u001b[39m\u001b[39mcapital_gains_short\u001b[39m\u001b[39m\"\u001b[39m: capital_gains_short, \u001b[39m\"\u001b[39m\u001b[39mcapital_gains_long\u001b[39m\u001b[39m\"\u001b[39m: capital_gains_long, \u001b[39m\"\u001b[39m\u001b[39mcredits_state\u001b[39m\u001b[39m\"\u001b[39m: credits_state, \u001b[39m\"\u001b[39m\u001b[39mstate_agi\u001b[39m\u001b[39m\"\u001b[39m: state_agi, \u001b[39m\"\u001b[39m\u001b[39mincome\u001b[39m\u001b[39m\"\u001b[39m: income, \u001b[39m\"\u001b[39m\u001b[39mdependents\u001b[39m\u001b[39m\"\u001b[39m: dependents\n\u001b[0;32m     62\u001b[0m }\n\u001b[1;32m---> 64\u001b[0m \u001b[39mreturn\u001b[39;00m \u001b[39mself\u001b[39;49m\u001b[39m.\u001b[39;49m__fetch__(data, \u001b[39m\"\u001b[39;49m\u001b[39mstate-taxes/alabama\u001b[39;49m\u001b[39m\"\u001b[39;49m)\n",
      "File \u001b[1;32mc:\\Users\\Zach.000\\osifinanceapi\\osifinanceAPI\\state_taxes.py:11\u001b[0m, in \u001b[0;36mStateTaxes.__fetch__\u001b[1;34m(self, data, path)\u001b[0m\n\u001b[0;32m     10\u001b[0m \u001b[39mdef\u001b[39;00m \u001b[39m__fetch__\u001b[39m(\u001b[39mself\u001b[39m, data, path):\n\u001b[1;32m---> 11\u001b[0m     Osifinance\u001b[39m.\u001b[39;49m__fetch__(\u001b[39mself\u001b[39;49m, data, path)\n",
      "File \u001b[1;32mc:\\Users\\Zach.000\\osifinanceapi\\osifinanceAPI\\osifinance.py:125\u001b[0m, in \u001b[0;36mOsifinance.__fetch__\u001b[1;34m(self, body, path)\u001b[0m\n\u001b[0;32m    123\u001b[0m res \u001b[39m=\u001b[39m conn\u001b[39m.\u001b[39mgetresponse()\n\u001b[0;32m    124\u001b[0m \u001b[39mif\u001b[39;00m res\u001b[39m.\u001b[39mstatus \u001b[39m!=\u001b[39m \u001b[39m200\u001b[39m:\n\u001b[1;32m--> 125\u001b[0m     \u001b[39mraise\u001b[39;00m \u001b[39mValueError\u001b[39;00m(\u001b[39mf\u001b[39m\u001b[39m'\u001b[39m\u001b[39mError: \u001b[39m\u001b[39m{\u001b[39;00mres\u001b[39m.\u001b[39mstatus\u001b[39m}\u001b[39;00m\u001b[39m \u001b[39m\u001b[39m{\u001b[39;00mres\u001b[39m.\u001b[39mreason\u001b[39m}\u001b[39;00m\u001b[39m'\u001b[39m)\n\u001b[0;32m    127\u001b[0m data \u001b[39m=\u001b[39m res\u001b[39m.\u001b[39mread()\n\u001b[0;32m    129\u001b[0m r \u001b[39m=\u001b[39m json\u001b[39m.\u001b[39mloads(data\u001b[39m.\u001b[39mdecode(\u001b[39m'\u001b[39m\u001b[39mutf-8\u001b[39m\u001b[39m'\u001b[39m))\n",
      "\u001b[1;31mValueError\u001b[0m: Error: 500 INTERNAL SERVER ERROR"
     ]
    }
   ],
   "source": [
    "from osifinanceAPI import StateTaxes\n",
    "\n",
    "# OSI Finance API key, view your API key at https://osifinance.com/profile?mode=api\n",
    "API_KEY = \"p@$$6wucHR4sr9Reri7DfEr53lFe9MI3\"\n",
    "\n",
    "# Initialize a new Osifinance object\n",
    "osi = StateTaxes(API_KEY)\n",
    "osi.alabama()"
   ]
  }
 ],
 "metadata": {
  "kernelspec": {
   "display_name": "Python 3",
   "language": "python",
   "name": "python3"
  },
  "language_info": {
   "codemirror_mode": {
    "name": "ipython",
    "version": 3
   },
   "file_extension": ".py",
   "mimetype": "text/x-python",
   "name": "python",
   "nbconvert_exporter": "python",
   "pygments_lexer": "ipython3",
   "version": "3.11.5"
  },
  "orig_nbformat": 4
 },
 "nbformat": 4,
 "nbformat_minor": 2
}
