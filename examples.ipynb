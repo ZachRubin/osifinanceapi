{
 "cells": [
  {
   "cell_type": "code",
   "execution_count": null,
   "metadata": {},
   "outputs": [],
   "source": [
    "# Import the Osifinance class\n",
    "from osifinanceAPI import Osifinance\n",
    "from osifinanceAPI import states\n",
    "\n",
    "# OSI Finance API key\n",
    "API_KEY = \"p@$$w0rd\"\n",
    "\n",
    "# Initialize a new Osifinance object\n",
    "osi = Osifinance(API_KEY)\n",
    "\n",
    "You can now use osi to begin making API calls.\n",
    "\n",
    "Working with Osifinance Objects\n",
    "osifinanceAPI converts the JSON responses from the host website into Pandas dataframes.\n",
    "\n",
    "# Get income taxes\n",
    ">>> df_income_taxes = osi.taxes_income(filing_status='single', agi=100000)\n",
    "\n",
    "# Access the total taxes\n",
    ">>> df_income_taxes.taxes.total\n",
    "\n",
    "# State tax information can be found in the respective state files\n",
    ">>> help(osi.states.alabama)\n",
    ">>> help(osi.states.alabama.income)"
   ]
  }
 ],
 "metadata": {
  "language_info": {
   "name": "python"
  },
  "orig_nbformat": 4
 },
 "nbformat": 4,
 "nbformat_minor": 2
}
